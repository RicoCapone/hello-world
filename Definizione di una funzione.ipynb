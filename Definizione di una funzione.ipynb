{
 "cells": [
  {
   "cell_type": "markdown",
   "metadata": {},
   "source": [
    "# Esempi di definizione di una funzione"
   ]
  },
  {
   "cell_type": "markdown",
   "metadata": {},
   "source": [
    "1) Data questa lista di interi lista = [0,2,6,8,5,7,8.9] calcola il massimo, minimo, somma e media dei suoi elementi, infine ordinala in senso decrescente\n",
    "\n",
    "2) Crea una lista con lunghezza pari a 50 elementi e inserisci numeri interi a tuo piacimento, poi rimuovi da essa i numeri multipli di 5\n",
    "\n",
    "3) Svolgi l'esercizio precedente utilizzando una comprensione di liste\n",
    "\n",
    "4) Crea una funzione che restituisca **True** se la lista di numeri interi che prende come parametro è una lista di quadrati perfetti (es 4, 9, 16 ecc..), **False** altrimenti"
   ]
  },
  {
   "cell_type": "code",
   "execution_count": 15,
   "metadata": {},
   "outputs": [],
   "source": [
    "lista = [0,2,6,8,5,7,8,9]"
   ]
  },
  {
   "cell_type": "code",
   "execution_count": 92,
   "metadata": {},
   "outputs": [],
   "source": [
    "# dichiarazione di una funzione che restituisce il valore massimo della lista attraversandola con il classico processo iterativo\n",
    "def max_lista(lista):\n",
    "    max = 0\n",
    "    for numero in lista:\n",
    "        if numero > max:\n",
    "            max = numero\n",
    "    return max"
   ]
  },
  {
   "cell_type": "code",
   "execution_count": 93,
   "metadata": {},
   "outputs": [
    {
     "data": {
      "text/plain": [
       "9"
      ]
     },
     "execution_count": 93,
     "metadata": {},
     "output_type": "execute_result"
    }
   ],
   "source": [
    "# invocazione della funzione che estrae il valore massimo da una lista\n",
    "max_lista(lista)"
   ]
  },
  {
   "cell_type": "code",
   "execution_count": 18,
   "metadata": {},
   "outputs": [],
   "source": [
    "# dichiarazione di una funzione che restituisce il valore miniumo di una lista \n",
    "def min_lista(lista):\n",
    "    min = 9\n",
    "    for numero in lista:\n",
    "        if numero < min:\n",
    "            min = numero\n",
    "    return min"
   ]
  },
  {
   "cell_type": "code",
   "execution_count": 19,
   "metadata": {},
   "outputs": [
    {
     "data": {
      "text/plain": [
       "0"
      ]
     },
     "execution_count": 19,
     "metadata": {},
     "output_type": "execute_result"
    }
   ],
   "source": [
    "# invocazone della funzone che restituisce il valore minimo di una lista\n",
    "min_lista(lista)"
   ]
  },
  {
   "cell_type": "code",
   "execution_count": 20,
   "metadata": {},
   "outputs": [],
   "source": [
    "# la dichiarazione di sopra, in caso il numero la lista sia molto lunga\n",
    "def MinLista(lista):\n",
    "    listaordinata=sorted(lista)\n",
    "    min=listaordinata[-1]\n",
    "    for numero in lista:\n",
    "        if numero < min:\n",
    "            min = numero\n",
    "    return min"
   ]
  },
  {
   "cell_type": "code",
   "execution_count": 21,
   "metadata": {},
   "outputs": [
    {
     "data": {
      "text/plain": [
       "0"
      ]
     },
     "execution_count": 21,
     "metadata": {},
     "output_type": "execute_result"
    }
   ],
   "source": [
    "MinLista(lista)"
   ]
  },
  {
   "cell_type": "code",
   "execution_count": 22,
   "metadata": {},
   "outputs": [],
   "source": [
    "def fai_la_somma(lista):\n",
    "    totale = 0\n",
    "    for numero in lista:\n",
    "        totale += numero\n",
    "    return totale"
   ]
  },
  {
   "cell_type": "code",
   "execution_count": 23,
   "metadata": {},
   "outputs": [
    {
     "data": {
      "text/plain": [
       "45"
      ]
     },
     "execution_count": 23,
     "metadata": {},
     "output_type": "execute_result"
    }
   ],
   "source": [
    "fai_la_somma(lista)"
   ]
  },
  {
   "cell_type": "code",
   "execution_count": 24,
   "metadata": {},
   "outputs": [
    {
     "data": {
      "text/plain": [
       "5.625"
      ]
     },
     "execution_count": 24,
     "metadata": {},
     "output_type": "execute_result"
    }
   ],
   "source": [
    "media = fai_la_somma(lista)/len(lista)\n",
    "media"
   ]
  },
  {
   "cell_type": "code",
   "execution_count": 25,
   "metadata": {},
   "outputs": [
    {
     "data": {
      "text/plain": [
       "9"
      ]
     },
     "execution_count": 25,
     "metadata": {},
     "output_type": "execute_result"
    }
   ],
   "source": [
    "max(lista)"
   ]
  },
  {
   "cell_type": "code",
   "execution_count": 26,
   "metadata": {},
   "outputs": [
    {
     "data": {
      "text/plain": [
       "0"
      ]
     },
     "execution_count": 26,
     "metadata": {},
     "output_type": "execute_result"
    }
   ],
   "source": [
    "min(lista)"
   ]
  },
  {
   "cell_type": "code",
   "execution_count": 27,
   "metadata": {},
   "outputs": [
    {
     "data": {
      "text/plain": [
       "45"
      ]
     },
     "execution_count": 27,
     "metadata": {},
     "output_type": "execute_result"
    }
   ],
   "source": [
    "sum(lista)"
   ]
  },
  {
   "cell_type": "code",
   "execution_count": 28,
   "metadata": {},
   "outputs": [
    {
     "data": {
      "text/plain": [
       "5.625"
      ]
     },
     "execution_count": 28,
     "metadata": {},
     "output_type": "execute_result"
    }
   ],
   "source": [
    "media = sum(lista)/len(lista)\n",
    "media"
   ]
  },
  {
   "cell_type": "code",
   "execution_count": 29,
   "metadata": {},
   "outputs": [
    {
     "data": {
      "text/plain": [
       "[9, 8, 8, 7, 6, 5, 2, 0]"
      ]
     },
     "execution_count": 29,
     "metadata": {},
     "output_type": "execute_result"
    }
   ],
   "source": [
    "sorted(lista, reverse=True)"
   ]
  },
  {
   "cell_type": "code",
   "execution_count": 30,
   "metadata": {},
   "outputs": [
    {
     "data": {
      "text/plain": [
       "[9, 8, 8, 7, 6, 5, 2, 0]"
      ]
     },
     "execution_count": 30,
     "metadata": {},
     "output_type": "execute_result"
    }
   ],
   "source": [
    "lista.sort(reverse=True)\n",
    "lista"
   ]
  },
  {
   "cell_type": "code",
   "execution_count": 31,
   "metadata": {},
   "outputs": [],
   "source": [
    "Lista50 = [3,5,7,6,8,11,31,22,21,24,33,35,45,47,39,19,55,58,64,67,89,99,95,38,85,15,17,41,49,51,75,77,93,90,80,70,60,50,40,30,20,10,9,103,105,107,110,114,115,117]\n"
   ]
  },
  {
   "cell_type": "code",
   "execution_count": 32,
   "metadata": {},
   "outputs": [
    {
     "name": "stdout",
     "output_type": "stream",
     "text": [
      "[3, 5, 6, 7, 8, 9, 10, 11, 15, 17, 19, 20, 21, 22, 24, 30, 31, 33, 35, 38, 39, 40, 41, 45, 47, 49, 50, 51, 55, 58, 60, 64, 67, 70, 75, 77, 80, 85, 89, 90, 93, 95, 99, 103, 105, 107, 110, 114, 115, 117]\n"
     ]
    },
    {
     "data": {
      "text/plain": [
       "50"
      ]
     },
     "execution_count": 32,
     "metadata": {},
     "output_type": "execute_result"
    }
   ],
   "source": [
    "print(sorted(Lista50))\n",
    "len(Lista50)"
   ]
  },
  {
   "cell_type": "code",
   "execution_count": 33,
   "metadata": {},
   "outputs": [
    {
     "name": "stdout",
     "output_type": "stream",
     "text": [
      "[3, 6, 7, 8, 9, 11, 17, 19, 21, 22, 24, 31, 33, 38, 39, 41, 47, 49, 51, 58, 64, 67, 77, 89, 93, 99, 103, 107, 114, 117]\n"
     ]
    },
    {
     "data": {
      "text/plain": [
       "30"
      ]
     },
     "execution_count": 33,
     "metadata": {},
     "output_type": "execute_result"
    }
   ],
   "source": [
    "# un modo possibile è creare una nuova lista con .append che esclude iterativamente i multipli del 5, selezionati con il metodo del resto 0\n",
    "NuovaLista = []\n",
    "for numero in Lista50:\n",
    "    if numero % 5 != 0:\n",
    "        NuovaLista.append(numero)\n",
    "print(sorted(NuovaLista))\n",
    "len (NuovaLista)"
   ]
  },
  {
   "cell_type": "code",
   "execution_count": 34,
   "metadata": {},
   "outputs": [
    {
     "name": "stdout",
     "output_type": "stream",
     "text": [
      "[3, 6, 7, 8, 9, 11, 17, 19, 21, 22, 24, 31, 33, 38, 39, 41, 47, 49, 51, 58, 64, 67, 77, 89, 93, 99, 103, 107, 114, 117]\n"
     ]
    },
    {
     "data": {
      "text/plain": [
       "30"
      ]
     },
     "execution_count": 34,
     "metadata": {},
     "output_type": "execute_result"
    }
   ],
   "source": [
    "# ma si può anche definire tutto un'unica espressione che crea una riduzione della Lista50 con gli elementi che soddisfano le condizioni indicate\n",
    "Lista50Ridotta = [x for x in Lista50 if x % 5 != 0]\n",
    "print(sorted(Lista50Ridotta))  \n",
    "len(Lista50Ridotta)"
   ]
  },
  {
   "cell_type": "code",
   "execution_count": 41,
   "metadata": {},
   "outputs": [
    {
     "data": {
      "text/plain": [
       "[0, 1, 4, 9, 16, 25, 36, 49, 64, 81]"
      ]
     },
     "execution_count": 41,
     "metadata": {},
     "output_type": "execute_result"
    }
   ],
   "source": [
    "# Creiamo una lista di quadrati perfetti\n",
    "ListaQuadratiPerfetti = [x*x for x in range(10)]\n",
    "\n",
    "ListaQuadratiPerfetti"
   ]
  },
  {
   "cell_type": "code",
   "execution_count": 65,
   "metadata": {},
   "outputs": [],
   "source": [
    "# Con una prima versione di verifica dei valore contenuti nella lista dei quadrati perfetti continuavo ad avere un errore\n",
    "\n",
    "def VerificaLista (lista):\n",
    "    for x in lista:\n",
    "        if x % int(x**0.5) != 0:\n",
    "            return False\n",
    "        return True"
   ]
  },
  {
   "cell_type": "code",
   "execution_count": 66,
   "metadata": {},
   "outputs": [
    {
     "ename": "ZeroDivisionError",
     "evalue": "integer division or modulo by zero",
     "output_type": "error",
     "traceback": [
      "\u001b[0;31m---------------------------------------------------------------------------\u001b[0m",
      "\u001b[0;31mZeroDivisionError\u001b[0m                         Traceback (most recent call last)",
      "\u001b[0;32m<ipython-input-66-61f53a43c328>\u001b[0m in \u001b[0;36m<module>\u001b[0;34m\u001b[0m\n\u001b[0;32m----> 1\u001b[0;31m \u001b[0mVerificaLista\u001b[0m\u001b[0;34m(\u001b[0m\u001b[0mListaQuadratiPerfetti\u001b[0m\u001b[0;34m)\u001b[0m\u001b[0;34m\u001b[0m\u001b[0;34m\u001b[0m\u001b[0m\n\u001b[0m",
      "\u001b[0;32m<ipython-input-65-ba665b3250ff>\u001b[0m in \u001b[0;36mVerificaLista\u001b[0;34m(lista)\u001b[0m\n\u001b[1;32m      3\u001b[0m \u001b[0;32mdef\u001b[0m \u001b[0mVerificaLista\u001b[0m \u001b[0;34m(\u001b[0m\u001b[0mlista\u001b[0m\u001b[0;34m)\u001b[0m\u001b[0;34m:\u001b[0m\u001b[0;34m\u001b[0m\u001b[0;34m\u001b[0m\u001b[0m\n\u001b[1;32m      4\u001b[0m     \u001b[0;32mfor\u001b[0m \u001b[0mx\u001b[0m \u001b[0;32min\u001b[0m \u001b[0mlista\u001b[0m\u001b[0;34m:\u001b[0m\u001b[0;34m\u001b[0m\u001b[0;34m\u001b[0m\u001b[0m\n\u001b[0;32m----> 5\u001b[0;31m         \u001b[0;32mif\u001b[0m \u001b[0mx\u001b[0m \u001b[0;34m%\u001b[0m \u001b[0mint\u001b[0m\u001b[0;34m(\u001b[0m\u001b[0mx\u001b[0m\u001b[0;34m**\u001b[0m\u001b[0;36m0.5\u001b[0m\u001b[0;34m)\u001b[0m \u001b[0;34m!=\u001b[0m \u001b[0;36m0\u001b[0m\u001b[0;34m:\u001b[0m\u001b[0;34m\u001b[0m\u001b[0;34m\u001b[0m\u001b[0m\n\u001b[0m\u001b[1;32m      6\u001b[0m             \u001b[0;32mreturn\u001b[0m \u001b[0;32mFalse\u001b[0m\u001b[0;34m\u001b[0m\u001b[0;34m\u001b[0m\u001b[0m\n\u001b[1;32m      7\u001b[0m         \u001b[0;32mreturn\u001b[0m \u001b[0;32mTrue\u001b[0m\u001b[0;34m\u001b[0m\u001b[0;34m\u001b[0m\u001b[0m\n",
      "\u001b[0;31mZeroDivisionError\u001b[0m: integer division or modulo by zero"
     ]
    }
   ],
   "source": [
    "VerificaLista(ListaQuadratiPerfetti)"
   ]
  },
  {
   "cell_type": "code",
   "execution_count": 44,
   "metadata": {},
   "outputs": [
    {
     "data": {
      "text/plain": [
       "False"
      ]
     },
     "execution_count": 44,
     "metadata": {},
     "output_type": "execute_result"
    }
   ],
   "source": [
    "# Dopo essermi confrontato con i colleghi su discord ho visto che un algoritmo simile al mio funzionava\n",
    "from math import sqrt\n",
    "\n",
    "lista_esempio = [4,9,16,25,32.5,51,81]\n",
    "\n",
    "def QuadratiPerfetti(lista):\n",
    "    for element in lista_esempio:\n",
    "        if element % sqrt(element)  != 0:\n",
    "            return False\n",
    "    return True\n",
    "\n",
    "\n",
    "QuadratiPerfetti(lista_esempio)"
   ]
  },
  {
   "cell_type": "code",
   "execution_count": 45,
   "metadata": {},
   "outputs": [
    {
     "ename": "ZeroDivisionError",
     "evalue": "float modulo",
     "output_type": "error",
     "traceback": [
      "\u001b[0;31m---------------------------------------------------------------------------\u001b[0m",
      "\u001b[0;31mZeroDivisionError\u001b[0m                         Traceback (most recent call last)",
      "\u001b[0;32m<ipython-input-45-ba6fc3e0c737>\u001b[0m in \u001b[0;36m<module>\u001b[0;34m\u001b[0m\n\u001b[1;32m     10\u001b[0m \u001b[0;34m\u001b[0m\u001b[0m\n\u001b[1;32m     11\u001b[0m \u001b[0;34m\u001b[0m\u001b[0m\n\u001b[0;32m---> 12\u001b[0;31m \u001b[0mQuadratiPerfetti\u001b[0m\u001b[0;34m(\u001b[0m\u001b[0mListaQuadratiPerfetti\u001b[0m\u001b[0;34m)\u001b[0m\u001b[0;34m\u001b[0m\u001b[0;34m\u001b[0m\u001b[0m\n\u001b[0m",
      "\u001b[0;32m<ipython-input-45-ba6fc3e0c737>\u001b[0m in \u001b[0;36mQuadratiPerfetti\u001b[0;34m(lista)\u001b[0m\n\u001b[1;32m      5\u001b[0m \u001b[0;32mdef\u001b[0m \u001b[0mQuadratiPerfetti\u001b[0m\u001b[0;34m(\u001b[0m\u001b[0mlista\u001b[0m\u001b[0;34m)\u001b[0m\u001b[0;34m:\u001b[0m\u001b[0;34m\u001b[0m\u001b[0;34m\u001b[0m\u001b[0m\n\u001b[1;32m      6\u001b[0m     \u001b[0;32mfor\u001b[0m \u001b[0mnumero\u001b[0m \u001b[0;32min\u001b[0m \u001b[0mListaQuadratiPerfetti\u001b[0m\u001b[0;34m:\u001b[0m\u001b[0;34m\u001b[0m\u001b[0;34m\u001b[0m\u001b[0m\n\u001b[0;32m----> 7\u001b[0;31m         \u001b[0;32mif\u001b[0m \u001b[0mnumero\u001b[0m \u001b[0;34m%\u001b[0m \u001b[0msqrt\u001b[0m\u001b[0;34m(\u001b[0m\u001b[0mnumero\u001b[0m\u001b[0;34m)\u001b[0m  \u001b[0;34m!=\u001b[0m \u001b[0;36m0\u001b[0m\u001b[0;34m:\u001b[0m\u001b[0;34m\u001b[0m\u001b[0;34m\u001b[0m\u001b[0m\n\u001b[0m\u001b[1;32m      8\u001b[0m             \u001b[0;32mreturn\u001b[0m \u001b[0;32mFalse\u001b[0m\u001b[0;34m\u001b[0m\u001b[0;34m\u001b[0m\u001b[0m\n\u001b[1;32m      9\u001b[0m     \u001b[0;32mreturn\u001b[0m \u001b[0;32mTrue\u001b[0m\u001b[0;34m\u001b[0m\u001b[0;34m\u001b[0m\u001b[0m\n",
      "\u001b[0;31mZeroDivisionError\u001b[0m: float modulo"
     ]
    }
   ],
   "source": [
    "# Adattandola alla mia versione però continuava a restituire un errore con lo zero\n",
    "\n",
    "from math import sqrt\n",
    "\n",
    "def QuadratiPerfetti(lista):\n",
    "    for numero in ListaQuadratiPerfetti:\n",
    "        if numero % sqrt(numero)  != 0:\n",
    "            return False\n",
    "    return True\n",
    "\n",
    "\n",
    "QuadratiPerfetti(ListaQuadratiPerfetti)"
   ]
  },
  {
   "cell_type": "code",
   "execution_count": 46,
   "metadata": {},
   "outputs": [
    {
     "data": {
      "text/plain": [
       "[1, 4, 9, 16, 25, 36, 49, 64, 81]"
      ]
     },
     "execution_count": 46,
     "metadata": {},
     "output_type": "execute_result"
    }
   ],
   "source": [
    "# Per cui ho creato una lista di quadrati perfetti senza lo zero, visto che effettivamente lo 0 non è un quadrato perfetto\n",
    "ListaQuadratiPerfettiSenzaZero = [x*x for x in range(1,10)]\n",
    "\n",
    "ListaQuadratiPerfettiSenzaZero"
   ]
  },
  {
   "cell_type": "code",
   "execution_count": 47,
   "metadata": {},
   "outputs": [
    {
     "data": {
      "text/plain": [
       "True"
      ]
     },
     "execution_count": 47,
     "metadata": {},
     "output_type": "execute_result"
    }
   ],
   "source": [
    "# E così ha funzionato\n",
    "from math import sqrt\n",
    "\n",
    "def QuadratiPerfetti(lista):\n",
    "    for numero in ListaQuadratiPerfettiSenzaZero:\n",
    "        if numero % sqrt(numero)  != 0:\n",
    "            return False\n",
    "    return True\n",
    "\n",
    "\n",
    "QuadratiPerfetti(ListaQuadratiPerfettiSenzaZero)"
   ]
  },
  {
   "cell_type": "code",
   "execution_count": 63,
   "metadata": {},
   "outputs": [],
   "source": [
    "# Senza lo zero ho verificato che funzionava anche la mia versione senza import math\n",
    "def VerificaLista (lista):\n",
    "    for x in lista:\n",
    "        if x % int(x**0.5) != 0:\n",
    "            return False\n",
    "        return True"
   ]
  },
  {
   "cell_type": "code",
   "execution_count": 64,
   "metadata": {},
   "outputs": [
    {
     "data": {
      "text/plain": [
       "True"
      ]
     },
     "execution_count": 64,
     "metadata": {},
     "output_type": "execute_result"
    }
   ],
   "source": [
    "VerificaLista(ListaQuadratiPerfettiSenzaZero)"
   ]
  },
  {
   "cell_type": "code",
   "execution_count": 50,
   "metadata": {},
   "outputs": [
    {
     "name": "stdout",
     "output_type": "stream",
     "text": [
      "[22, 23, 24, 25, 26, 27, 28, 29, 30, 31, 32, 33, 34, 35, 36, 37]\n"
     ]
    }
   ],
   "source": [
    "# Infine ho creato anche una lista casuale per verificare l'altro valore booleano\n",
    "ListaCasuale = [x for x in range (22,38)]\n",
    "\n",
    "print(ListaCasuale)"
   ]
  },
  {
   "cell_type": "code",
   "execution_count": 51,
   "metadata": {},
   "outputs": [],
   "source": [
    "def VerificaLista (lista):\n",
    "    for x in ListaCasuale:\n",
    "        if x % int(x**0.5) != 0:\n",
    "            return False\n",
    "        return True"
   ]
  },
  {
   "cell_type": "code",
   "execution_count": 52,
   "metadata": {},
   "outputs": [
    {
     "data": {
      "text/plain": [
       "False"
      ]
     },
     "execution_count": 52,
     "metadata": {},
     "output_type": "execute_result"
    }
   ],
   "source": [
    "VerificaLista(ListaCasuale)"
   ]
  },
  {
   "cell_type": "code",
   "execution_count": 82,
   "metadata": {},
   "outputs": [],
   "source": [
    "def VerificaLista (lista):\n",
    "    for x in lista:\n",
    "        if x % int(x**0.5) == 0:\n",
    "            print('True')"
   ]
  },
  {
   "cell_type": "raw",
   "metadata": {},
   "source": [
    "VerificaLista(ListaQuadratiPerfettiSenzaZero)"
   ]
  },
  {
   "cell_type": "code",
   "execution_count": 84,
   "metadata": {},
   "outputs": [],
   "source": [
    "# confronto con Vincenzo Trombetta, che da buon ingegnere informatico ha trovato la soluzione più brillante\n",
    "def perfectSquareList(lista) : \n",
    "  i = 0  \n",
    "  for element in lista :\n",
    "      if abs(element**(1/2) - int(element**(1/2) ))  == 0 :\n",
    "          i = i + 1\n",
    "      else :\n",
    "          break\n",
    "          \n",
    "  print(i == len(lista)) "
   ]
  },
  {
   "cell_type": "code",
   "execution_count": 89,
   "metadata": {},
   "outputs": [
    {
     "name": "stdout",
     "output_type": "stream",
     "text": [
      "True\n"
     ]
    }
   ],
   "source": [
    "perfectSquareList(ListaQuadratiPerfettiSenzaZero)"
   ]
  },
  {
   "cell_type": "code",
   "execution_count": 91,
   "metadata": {},
   "outputs": [
    {
     "name": "stdout",
     "output_type": "stream",
     "text": [
      "Se il parametro verifica è False significa che la lista non contiene tutti quadrati perfetti\n",
      "\n",
      "Se il parametro verifica è True significa che la lista  contiene tutti quadrati perfetti\n",
      "\n",
      "Il parametro verifica è: False\n"
     ]
    }
   ],
   "source": [
    "# confronto con Alessandra Cantone\n",
    "import math\n",
    "\n",
    "Interi=[4,9,16,49,36]\n",
    "\n",
    "def quadrati_perfetti(lista):\n",
    "    verifica=False\n",
    "    lista_controllata=[]\n",
    "\n",
    "    for i in lista:\n",
    "        if int(math.sqrt(i))==math.sqrt(i):\n",
    "            lista_controllata=lista_controllata+[i]\n",
    "\n",
    "\n",
    "    if len(lista_controllata)==len(lista):\n",
    "        verifica=True\n",
    "\n",
    "\n",
    "    return verifica\n",
    "\n",
    "\n",
    "verifica=quadrati_perfetti(Interi)\n",
    "\n",
    "print('Se il parametro verifica è False significa che la lista non contiene tutti quadrati perfetti'+'\\n')\n",
    "print('Se il parametro verifica è True significa che la lista  contiene tutti quadrati perfetti'+'\\n')\n",
    "print('Il parametro verifica è: {}'.format(verifica))"
   ]
  },
  {
   "cell_type": "code",
   "execution_count": null,
   "metadata": {},
   "outputs": [],
   "source": []
  }
 ],
 "metadata": {
  "kernelspec": {
   "display_name": "Python 3",
   "language": "python",
   "name": "python3"
  },
  "language_info": {
   "codemirror_mode": {
    "name": "ipython",
    "version": 3
   },
   "file_extension": ".py",
   "mimetype": "text/x-python",
   "name": "python",
   "nbconvert_exporter": "python",
   "pygments_lexer": "ipython3",
   "version": "3.8.8"
  },
  "toc": {
   "base_numbering": 1,
   "nav_menu": {},
   "number_sections": true,
   "sideBar": true,
   "skip_h1_title": false,
   "title_cell": "Table of Contents",
   "title_sidebar": "Contents",
   "toc_cell": true,
   "toc_position": {},
   "toc_section_display": true,
   "toc_window_display": true
  }
 },
 "nbformat": 4,
 "nbformat_minor": 4
}
